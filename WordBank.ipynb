{
 "cells": [
  {
   "cell_type": "code",
   "execution_count": 1,
   "metadata": {
    "collapsed": true
   },
   "outputs": [],
   "source": [
    "import json\n",
    "from pprint import pprint"
   ]
  },
  {
   "cell_type": "code",
   "execution_count": 19,
   "metadata": {
    "collapsed": true
   },
   "outputs": [],
   "source": [
    "def search_dict(wordbank, query):\n",
    "    # A function to find the relative wordbank by a word.\n",
    "    # However, for basic use, you only need to call the \"add_dict\" function below.\n",
    "    \n",
    "    for key in wordbank:\n",
    "        if key == query:\n",
    "            return wordbank[key]\n",
    "        else:\n",
    "            search_dict(wordbank[key], query)"
   ]
  },
  {
   "cell_type": "code",
   "execution_count": 27,
   "metadata": {
    "collapsed": false
   },
   "outputs": [],
   "source": [
    "def add_dict(new_keyword, target_keyword=\"\", wordbank=None):\n",
    "    # Add new keywords below another keyword that already exists.\n",
    "    # For example: add_dict(\"Care about money\", \"Make more money\", wordbank)\n",
    "    \n",
    "    # You can also make new wordbank by doing like:\n",
    "    # wordbank = add_dict(\"You\")\n",
    "    \n",
    "    if wordbank == None:\n",
    "        wordbank = {}\n",
    "        wordbank[new_keyword] = {}\n",
    "    else:\n",
    "        target_dict = search_dict(wordbank, target_keyword)\n",
    "        target_dict[new_keyword] = {}\n",
    "    \n",
    "    return wordbank\n",
    "        \n",
    "    "
   ]
  },
  {
   "cell_type": "code",
   "execution_count": 39,
   "metadata": {
    "collapsed": true
   },
   "outputs": [],
   "source": [
    "def save_wordbank(wordbank, wordbank_name = \"\"):\n",
    "    # save your wordbank as a json file\n",
    "    # the default file name is \"WordBank\", or you can use your own wordbank name.\n",
    "    \n",
    "    if not wordbank_name:\n",
    "        wordbank_name = \"WordBank\"\n",
    "        \n",
    "    with open(wordbank_name + \".json\", 'w') as fp:\n",
    "        json.dump(wordbank, fp)\n",
    "    "
   ]
  },
  {
   "cell_type": "code",
   "execution_count": 40,
   "metadata": {
    "collapsed": true
   },
   "outputs": [],
   "source": [
    "def load_wordbank(wordbank_name = \"\"):\n",
    "    # load your wordbank by a json file. \n",
    "    # the default file name is \"WordBank\", or you can use your own wordbank name.\n",
    "    # Feel free to customize it! \n",
    "    \n",
    "    # By the way2, the prefix \"u'\" means you word is in Unicode form, \n",
    "    # it won't appears when you really use the string.\n",
    "    if not wordbank_name:\n",
    "        wordbank_name = \"WordBank\"\n",
    "        \n",
    "    with open(wordbank_name + \".json\", 'r') as fp:\n",
    "        wordbank = json.load(fp)\n",
    "        pprint(wordbank)\n",
    "        \n",
    "        return wordbank"
   ]
  }
 ],
 "metadata": {
  "kernelspec": {
   "display_name": "Python 2",
   "language": "python",
   "name": "python2"
  },
  "language_info": {
   "codemirror_mode": {
    "name": "ipython",
    "version": 2
   },
   "file_extension": ".py",
   "mimetype": "text/x-python",
   "name": "python",
   "nbconvert_exporter": "python",
   "pygments_lexer": "ipython2",
   "version": "2.7.12"
  }
 },
 "nbformat": 4,
 "nbformat_minor": 2
}
