{
 "cells": [
  {
   "cell_type": "code",
   "execution_count": 1,
   "metadata": {
    "collapsed": true
   },
   "outputs": [],
   "source": [
    "import json\n",
    "from pprint import pprint"
   ]
  },
  {
   "cell_type": "code",
   "execution_count": 69,
   "metadata": {
    "collapsed": false
   },
   "outputs": [],
   "source": [
    "class WordBank():\n",
    "    def __init__(self):\n",
    "        self.wordbank = {}\n",
    "        \n",
    "    def search_dict(self, query):\n",
    "    # A function to find the relative wordbank by a word.\n",
    "    # However, for basic use, you only need to call the \"add_dict\" function below.\n",
    "    \n",
    "        for key in self.wordbank:\n",
    "            if key == query:\n",
    "                return self.wordbank[key]\n",
    "            else:\n",
    "                search_dict(self.wordbank[key], query) \n",
    "\n",
    "    def add_dict(self, new_keyword, target_keyword=\"\"):\n",
    "    # Add new keywords below another keyword that already exists.\n",
    "    # For example: add_dict(\"Care about money\", \"Make more money\", wordbank)\n",
    "        if not target_keyword:\n",
    "            self.wordbank[new_keyword] = {}\n",
    "       \n",
    "        else:\n",
    "            target_dict = search_dict(self.wordbank, target_keyword)\n",
    "            target_dict[new_keyword] = {}\n",
    "    \n",
    "        return self.wordbank\n",
    "    \n",
    "    def save_wordbank(self, wordbank_name = \"\"):\n",
    "    # save your wordbank as a json file\n",
    "    # the default file name is \"WordBank\", or you can use your own wordbank name.\n",
    "    \n",
    "        if not wordbank_name:\n",
    "            wordbank_name = \"WordBank\"\n",
    "\n",
    "        with open(wordbank_name + \".json\", 'w') as fp:\n",
    "            json.dump(self.wordbank, fp)\n",
    "    \n",
    "    def load_wordbank(self, wordbank_name = \"\"):\n",
    "    # load your wordbank by a json file. \n",
    "    # the default file name is \"WordBank\", or you can use your own wordbank name.\n",
    "    # Feel free to customize it! \n",
    "    \n",
    "    # By the way2, the prefix \"u'\" means you word is in Unicode form, \n",
    "    # it won't appears when you really use the string.\n",
    "        if not wordbank_name:\n",
    "            wordbank_name = \"WordBank\"\n",
    "\n",
    "        with open(wordbank_name + \".json\", 'r') as fp:\n",
    "            self.wordbank = json.load(fp)\n",
    "            pprint(self.wordbank)\n",
    "\n",
    "            return self.wordbank"
   ]
  },
  {
   "cell_type": "code",
   "execution_count": 70,
   "metadata": {
    "collapsed": false
   },
   "outputs": [],
   "source": [
    "wordbank = WordBank()"
   ]
  },
  {
   "cell_type": "code",
   "execution_count": 71,
   "metadata": {
    "collapsed": false
   },
   "outputs": [
    {
     "data": {
      "text/plain": [
       "{'You': {}}"
      ]
     },
     "execution_count": 71,
     "metadata": {},
     "output_type": "execute_result"
    }
   ],
   "source": [
    "wordbank.add_dict(\"You\")"
   ]
  },
  {
   "cell_type": "code",
   "execution_count": 72,
   "metadata": {
    "collapsed": false
   },
   "outputs": [
    {
     "data": {
      "text/plain": [
       "{'You': {'Care $': {}}}"
      ]
     },
     "execution_count": 72,
     "metadata": {},
     "output_type": "execute_result"
    }
   ],
   "source": [
    "wordbank.add_dict(\"Care $\", \"You\")"
   ]
  },
  {
   "cell_type": "code",
   "execution_count": 73,
   "metadata": {
    "collapsed": false
   },
   "outputs": [
    {
     "name": "stdout",
     "output_type": "stream",
     "text": [
      "{'Care $': {}}\n"
     ]
    }
   ],
   "source": [
    "print wordbank.search_dict(\"You\")"
   ]
  },
  {
   "cell_type": "code",
   "execution_count": 74,
   "metadata": {
    "collapsed": true
   },
   "outputs": [],
   "source": [
    "wordbank.save_wordbank()"
   ]
  },
  {
   "cell_type": "code",
   "execution_count": 75,
   "metadata": {
    "collapsed": false
   },
   "outputs": [
    {
     "name": "stdout",
     "output_type": "stream",
     "text": [
      "{u'You': {u'Care $': {}}}\n"
     ]
    },
    {
     "data": {
      "text/plain": [
       "{u'You': {u'Care $': {}}}"
      ]
     },
     "execution_count": 75,
     "metadata": {},
     "output_type": "execute_result"
    }
   ],
   "source": [
    "wordbank.load_wordbank()"
   ]
  },
  {
   "cell_type": "code",
   "execution_count": null,
   "metadata": {
    "collapsed": true
   },
   "outputs": [],
   "source": []
  },
  {
   "cell_type": "code",
   "execution_count": null,
   "metadata": {
    "collapsed": true
   },
   "outputs": [],
   "source": []
  }
 ],
 "metadata": {
  "kernelspec": {
   "display_name": "Python 2",
   "language": "python",
   "name": "python2"
  },
  "language_info": {
   "codemirror_mode": {
    "name": "ipython",
    "version": 2
   },
   "file_extension": ".py",
   "mimetype": "text/x-python",
   "name": "python",
   "nbconvert_exporter": "python",
   "pygments_lexer": "ipython2",
   "version": "2.7.12"
  }
 },
 "nbformat": 4,
 "nbformat_minor": 2
}
